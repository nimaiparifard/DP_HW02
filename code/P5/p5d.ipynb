{
 "cells": [
  {
   "cell_type": "code",
   "execution_count": 11,
   "metadata": {
    "collapsed": true,
    "ExecuteTime": {
     "end_time": "2024-04-09T14:42:29.441388200Z",
     "start_time": "2024-04-09T14:42:29.397278100Z"
    }
   },
   "outputs": [],
   "source": [
    "from PIL import Image\n",
    "import numpy as np\n",
    "import torch\n",
    "from torch import nn, optim\n",
    "from p5a import ReducingresolutionClass\n",
    "from model_resolution import MLP, device\n",
    "import matplotlib.pyplot as plt\n",
    "from p5c import eval_resolution"
   ]
  },
  {
   "cell_type": "code",
   "execution_count": 12,
   "outputs": [],
   "source": [
    "# Load the images\n",
    "images = [Image.open(f'{i}.jpg') for i in range(1, 11)]\n",
    "reducing = ReducingresolutionClass(n=2)\n",
    "features2, labels2, end_of_each_image2, low_res_images2 =  reducing.reduce(images)\n",
    "list_features = features2\n",
    "features = np.array(features2)\n",
    "labels = np.array(labels2)\n",
    "\n",
    "# Split the dataset into training, validation, and test sets\n",
    "train_features, train_labels = features[:end_of_each_image2[7]], labels[:end_of_each_image2[7]]\n",
    "val_features, val_labels = features[end_of_each_image2[7]:end_of_each_image2[8]], labels[end_of_each_image2[7]:end_of_each_image2[8]]\n",
    "test_features, test_labels = features[end_of_each_image2[8]:], labels[end_of_each_image2[8]:]"
   ],
   "metadata": {
    "collapsed": false,
    "ExecuteTime": {
     "end_time": "2024-04-09T14:43:15.638060900Z",
     "start_time": "2024-04-09T14:42:30.196601Z"
    }
   }
  },
  {
   "cell_type": "code",
   "execution_count": 13,
   "outputs": [],
   "source": [
    "reducing = ReducingresolutionClass(n=4)\n",
    "features4, labels4, end_of_each_image4, low_res_images4 =  reducing.reduce(images)\n",
    "list_features4 = features4\n",
    "features4 = np.array(features4)\n",
    "labels4 = np.array(labels4)\n",
    "\n",
    "# Split the dataset into training, validation, and test sets\n",
    "train_features4, train_labels4 = features[:end_of_each_image4[7]], labels[:end_of_each_image4[7]]\n",
    "val_features4, val_labels4 = features[end_of_each_image4[7]:end_of_each_image4[8]], labels[end_of_each_image4[7]:end_of_each_image4[8]]\n",
    "test_features4, test_labels4 = features[end_of_each_image4[8]:], labels[end_of_each_image4[8]:]"
   ],
   "metadata": {
    "collapsed": false,
    "ExecuteTime": {
     "end_time": "2024-04-09T14:43:59.418831100Z",
     "start_time": "2024-04-09T14:43:15.647023800Z"
    }
   }
  },
  {
   "cell_type": "code",
   "execution_count": 14,
   "outputs": [
    {
     "ename": "RuntimeError",
     "evalue": "Error(s) in loading state_dict for MLP:\n\tUnexpected key(s) in state_dict: \"layers.6.weight\", \"layers.6.bias\", \"layers.8.weight\", \"layers.8.bias\", \"layers.10.weight\", \"layers.10.bias\". \n\tsize mismatch for layers.2.weight: copying a param with shape torch.Size([128, 64]) from checkpoint, the shape in current model is torch.Size([32, 64]).\n\tsize mismatch for layers.2.bias: copying a param with shape torch.Size([128]) from checkpoint, the shape in current model is torch.Size([32]).\n\tsize mismatch for layers.4.weight: copying a param with shape torch.Size([256, 128]) from checkpoint, the shape in current model is torch.Size([3, 32]).\n\tsize mismatch for layers.4.bias: copying a param with shape torch.Size([256]) from checkpoint, the shape in current model is torch.Size([3]).",
     "output_type": "error",
     "traceback": [
      "\u001B[1;31m---------------------------------------------------------------------------\u001B[0m",
      "\u001B[1;31mRuntimeError\u001B[0m                              Traceback (most recent call last)",
      "Cell \u001B[1;32mIn[14], line 2\u001B[0m\n\u001B[0;32m      1\u001B[0m modelb \u001B[38;5;241m=\u001B[39m MLP()\u001B[38;5;241m.\u001B[39mto(device)\n\u001B[1;32m----> 2\u001B[0m modelb\u001B[38;5;241m.\u001B[39mload_state_dict(torch\u001B[38;5;241m.\u001B[39mload(\u001B[38;5;124m'\u001B[39m\u001B[38;5;124mmodel_part_b.pth\u001B[39m\u001B[38;5;124m'\u001B[39m, map_location\u001B[38;5;241m=\u001B[39mdevice))\n\u001B[0;32m      4\u001B[0m \u001B[38;5;66;03m# Generate high resolution twice construction with network from part b\u001B[39;00m\n\u001B[0;32m      5\u001B[0m high_res_images_with_two_construction \u001B[38;5;241m=\u001B[39m []\n",
      "File \u001B[1;32m~\\anaconda3\\Lib\\site-packages\\torch\\nn\\modules\\module.py:2041\u001B[0m, in \u001B[0;36mModule.load_state_dict\u001B[1;34m(self, state_dict, strict)\u001B[0m\n\u001B[0;32m   2036\u001B[0m         error_msgs\u001B[38;5;241m.\u001B[39minsert(\n\u001B[0;32m   2037\u001B[0m             \u001B[38;5;241m0\u001B[39m, \u001B[38;5;124m'\u001B[39m\u001B[38;5;124mMissing key(s) in state_dict: \u001B[39m\u001B[38;5;132;01m{}\u001B[39;00m\u001B[38;5;124m. \u001B[39m\u001B[38;5;124m'\u001B[39m\u001B[38;5;241m.\u001B[39mformat(\n\u001B[0;32m   2038\u001B[0m                 \u001B[38;5;124m'\u001B[39m\u001B[38;5;124m, \u001B[39m\u001B[38;5;124m'\u001B[39m\u001B[38;5;241m.\u001B[39mjoin(\u001B[38;5;124m'\u001B[39m\u001B[38;5;124m\"\u001B[39m\u001B[38;5;132;01m{}\u001B[39;00m\u001B[38;5;124m\"\u001B[39m\u001B[38;5;124m'\u001B[39m\u001B[38;5;241m.\u001B[39mformat(k) \u001B[38;5;28;01mfor\u001B[39;00m k \u001B[38;5;129;01min\u001B[39;00m missing_keys)))\n\u001B[0;32m   2040\u001B[0m \u001B[38;5;28;01mif\u001B[39;00m \u001B[38;5;28mlen\u001B[39m(error_msgs) \u001B[38;5;241m>\u001B[39m \u001B[38;5;241m0\u001B[39m:\n\u001B[1;32m-> 2041\u001B[0m     \u001B[38;5;28;01mraise\u001B[39;00m \u001B[38;5;167;01mRuntimeError\u001B[39;00m(\u001B[38;5;124m'\u001B[39m\u001B[38;5;124mError(s) in loading state_dict for \u001B[39m\u001B[38;5;132;01m{}\u001B[39;00m\u001B[38;5;124m:\u001B[39m\u001B[38;5;130;01m\\n\u001B[39;00m\u001B[38;5;130;01m\\t\u001B[39;00m\u001B[38;5;132;01m{}\u001B[39;00m\u001B[38;5;124m'\u001B[39m\u001B[38;5;241m.\u001B[39mformat(\n\u001B[0;32m   2042\u001B[0m                        \u001B[38;5;28mself\u001B[39m\u001B[38;5;241m.\u001B[39m\u001B[38;5;18m__class__\u001B[39m\u001B[38;5;241m.\u001B[39m\u001B[38;5;18m__name__\u001B[39m, \u001B[38;5;124m\"\u001B[39m\u001B[38;5;130;01m\\n\u001B[39;00m\u001B[38;5;130;01m\\t\u001B[39;00m\u001B[38;5;124m\"\u001B[39m\u001B[38;5;241m.\u001B[39mjoin(error_msgs)))\n\u001B[0;32m   2043\u001B[0m \u001B[38;5;28;01mreturn\u001B[39;00m _IncompatibleKeys(missing_keys, unexpected_keys)\n",
      "\u001B[1;31mRuntimeError\u001B[0m: Error(s) in loading state_dict for MLP:\n\tUnexpected key(s) in state_dict: \"layers.6.weight\", \"layers.6.bias\", \"layers.8.weight\", \"layers.8.bias\", \"layers.10.weight\", \"layers.10.bias\". \n\tsize mismatch for layers.2.weight: copying a param with shape torch.Size([128, 64]) from checkpoint, the shape in current model is torch.Size([32, 64]).\n\tsize mismatch for layers.2.bias: copying a param with shape torch.Size([128]) from checkpoint, the shape in current model is torch.Size([32]).\n\tsize mismatch for layers.4.weight: copying a param with shape torch.Size([256, 128]) from checkpoint, the shape in current model is torch.Size([3, 32]).\n\tsize mismatch for layers.4.bias: copying a param with shape torch.Size([256]) from checkpoint, the shape in current model is torch.Size([3])."
     ]
    }
   ],
   "source": [
    "modelb = MLP().to(device)\n",
    "modelb.load_state_dict(torch.load('model_part_b.pth', map_location=device))\n",
    "\n",
    "# Generate high resolution twice construction with network from part b\n",
    "high_res_images_with_two_construction = []\n",
    "for i in end_of_each_image4.keys():\n",
    "    if i > 1:\n",
    "        low_res_image_np = features[end_of_each_image4[i-1]:end_of_each_image4[i]]\n",
    "    else:\n",
    "        low_res_image_np = features[0:end_of_each_image4[1]]# Convert PIL Image to numpy array\n",
    "    low_res_image_tensor = torch.tensor(low_res_image_np, dtype=torch.float32, requires_grad=True).to(device)\n",
    "    high_res_image_b = modelb(modelb(low_res_image_tensor)).cpu().detach().numpy()\n",
    "    high_res_images_with_two_construction.append(high_res_image_b)"
   ],
   "metadata": {
    "collapsed": false,
    "ExecuteTime": {
     "end_time": "2024-04-09T14:44:59.069700300Z",
     "start_time": "2024-04-09T14:44:58.025599300Z"
    }
   }
  },
  {
   "cell_type": "code",
   "execution_count": null,
   "outputs": [],
   "source": [
    "modeld = MLP().to(device)\n",
    "# Check if a GPU is available and if not, use a CPU\n",
    "from model_resolution import MLP, device\n",
    "# Define the loss function and the optimizer\n",
    "criterion = nn.MSELoss()\n",
    "optimizer = optim.Adam(modeld.parameters())\n",
    "\n",
    "# Convert the datasets to PyTorch tensors and move them to the appropriate device\n",
    "train_features = torch.tensor(train_features4, dtype=torch.float32, requires_grad=True).to(device)\n",
    "train_labels = torch.tensor(train_labels4, dtype=torch.float32, requires_grad=True).to(device)\n",
    "val_features = torch.tensor(val_features4, dtype=torch.float32, requires_grad=True).to(device)\n",
    "val_labels = torch.tensor(val_labels4, dtype=torch.float32, requires_grad=True).to(device)"
   ],
   "metadata": {
    "collapsed": false
   }
  },
  {
   "cell_type": "code",
   "execution_count": 6,
   "outputs": [
    {
     "name": "stdout",
     "output_type": "stream",
     "text": [
      "Epoch 1/100 - Training Loss: 12742.6357421875\n",
      "Epoch 1/100 - Validation Loss: 7509.86669921875\n",
      "Epoch 2/100 - Training Loss: 12075.4521484375\n",
      "Epoch 2/100 - Validation Loss: 7171.30859375\n",
      "Epoch 3/100 - Training Loss: 11496.9462890625\n",
      "Epoch 3/100 - Validation Loss: 6828.75048828125\n"
     ]
    },
    {
     "data": {
      "text/plain": "<Figure size 640x480 with 1 Axes>",
      "image/png": "[encoded data removed]"
     },
     "metadata": {},
     "output_type": "display_data"
    }
   ],
   "source": [
    "# Initialize lists to store the losses\n",
    "train_losses = []\n",
    "val_losses = []\n",
    "\n",
    "# Train the MLP\n",
    "for epoch in range(1000):  # 100 epochs\n",
    "    modeld.train()  # Set the model to training mode\n",
    "    optimizer.zero_grad()  # Reset the gradients\n",
    "    train_outputs = modeld(train_features)  # Forward pass\n",
    "    loss = criterion(train_outputs, train_labels)  # Compute the loss\n",
    "    loss.backward()  # Backward pass\n",
    "    optimizer.step()  # Update the weights\n",
    "\n",
    "    # Store the training loss\n",
    "    train_losses.append(loss.item())\n",
    "\n",
    "    # Print the loss for this epoch\n",
    "    print(f'Epoch {epoch+1}/{100} - Training Loss: {loss.item()}')\n",
    "\n",
    "    # Validate the MLP\n",
    "    modeld.eval()  # Set the model to evaluation mode\n",
    "    with torch.no_grad():  # No need to track the gradients\n",
    "        val_outputs = modeld(val_features)  # Forward pass\n",
    "        val_loss = criterion(val_outputs, val_labels)  # Compute the loss\n",
    "\n",
    "        # Store the validation loss\n",
    "        val_losses.append(val_loss.item())\n",
    "\n",
    "        if epoch % 10 == 0:\n",
    "            # Print the validation loss\n",
    "            print(f'Epoch {epoch+1}/{100} - Validation Loss: {val_loss.item()}')\n",
    "\n",
    "# Plot the learning curve\n",
    "plt.plot(train_losses, label='Training Loss')\n",
    "plt.plot(val_losses, label='Validation Loss')\n",
    "plt.legend()\n",
    "plt.show()"
   ],
   "metadata": {
    "collapsed": false,
    "ExecuteTime": {
     "end_time": "2024-04-09T12:34:05.791051200Z",
     "start_time": "2024-04-09T12:32:45.778019300Z"
    }
   }
  },
  {
   "cell_type": "code",
   "execution_count": 10,
   "outputs": [],
   "source": [
    "# Save the model\n",
    "torch.save(modeld.state_dict(), 'model_part_d.pth', )"
   ],
   "metadata": {
    "collapsed": false,
    "ExecuteTime": {
     "end_time": "2024-04-09T12:38:06.921566100Z",
     "start_time": "2024-04-09T12:38:06.889321300Z"
    }
   }
  },
  {
   "cell_type": "code",
   "execution_count": 7,
   "outputs": [
    {
     "name": "stdout",
     "output_type": "stream",
     "text": [
      "Test Loss: 7438.09130859375\n"
     ]
    }
   ],
   "source": [
    "# Convert the test dataset to PyTorch tensors and move them to the appropriate device\n",
    "test_features = torch.tensor(test_features4, dtype=torch.float32, requires_grad=True).to(device)\n",
    "test_labels = torch.tensor(test_labels4, dtype=torch.float32, requires_grad=True).to(device)\n",
    "# Calculate the error function value for the test dataset\n",
    "model = MLP().to(device)\n",
    "model.load_state_dict(torch.load('model_part_d.pth'))\n",
    "model.eval()  # Set the model to evaluation mode\n",
    "with torch.no_grad():  # No need to track the gradients\n",
    "    test_outputs = model(test_features)  # Forward pass\n",
    "    test_loss = criterion(test_outputs, test_labels)  # Compute the loss\n",
    "\n",
    "# Print the test loss\n",
    "print(f'Test Loss: {test_loss.item()}')\n",
    "\n",
    "# Generate high-resolution images\n",
    "high_res_images = []\n",
    "for i in end_of_each_image4.keys():\n",
    "    if i > 1:\n",
    "        low_res_image_np = features[end_of_each_image4[i-1]:end_of_each_image4[i]]\n",
    "    else:\n",
    "        low_res_image_np = features[0:end_of_each_image4[1]]# Convert PIL Image to numpy array\n",
    "    low_res_image_tensor = torch.tensor(low_res_image_np, dtype=torch.float32, requires_grad=True).to(device)\n",
    "    high_res_image = model(low_res_image_tensor).cpu().detach().numpy()\n",
    "    high_res_images.append(high_res_image)"
   ],
   "metadata": {
    "collapsed": false,
    "ExecuteTime": {
     "end_time": "2024-04-09T12:34:49.515834600Z",
     "start_time": "2024-04-09T12:34:36.088531400Z"
    }
   }
  },
  {
   "cell_type": "code",
   "execution_count": 8,
   "outputs": [],
   "source": [
    "# Convert the numpy array to integer type\n",
    "high_res_images_quantized = []\n",
    "for i, (high_res_img, img) in enumerate(zip(high_res_images, images)):\n",
    "    high_res_img = high_res_img.reshape(img.height, img.width, 3).astype(np.uint8)\n",
    "    high_res_image_ = high_res_img.astype(np.uint8)\n",
    "    high_res_images_quantized.append(high_res_image_)\n",
    "\n",
    "# Convert the numpy array to a PIL Image\n",
    "high_res_images_pil = [Image.fromarray(img).convert('RGB') for img in high_res_images_quantized]"
   ],
   "metadata": {
    "collapsed": false,
    "ExecuteTime": {
     "end_time": "2024-04-09T12:34:51.567118700Z",
     "start_time": "2024-04-09T12:34:51.533069100Z"
    }
   }
  },
  {
   "cell_type": "code",
   "execution_count": 9,
   "outputs": [
    {
     "name": "stdout",
     "output_type": "stream",
     "text": [
      "Image 1 - SSIM: 0.11078283272878467, PSNR: 7.993947685545485\n",
      "Image 2 - SSIM: 0.0437172949962245, PSNR: 6.075913954673551\n",
      "Image 3 - SSIM: 0.16933776871287662, PSNR: 12.03317995734081\n",
      "Image 4 - SSIM: 0.2263063402170994, PSNR: 11.140039479870618\n",
      "Image 5 - SSIM: 0.01933408587418855, PSNR: 4.373896541974439\n",
      "Image 6 - SSIM: 0.13233170060031005, PSNR: 10.298494218472197\n",
      "Image 7 - SSIM: 0.08216822514732386, PSNR: 5.845945249596566\n",
      "Image 8 - SSIM: 0.12153758714067046, PSNR: 9.585216215179047\n",
      "Image 9 - SSIM: 0.20415053302406105, PSNR: 10.672371649753739\n",
      "Image 10 - SSIM: 0.07657512651043258, PSNR: 7.780918242528624\n"
     ]
    }
   ],
   "source": [
    "eval_resolution(high_res_images, images)"
   ],
   "metadata": {
    "collapsed": false,
    "ExecuteTime": {
     "end_time": "2024-04-09T12:34:58.390392600Z",
     "start_time": "2024-04-09T12:34:55.531632300Z"
    }
   }
  }
 ],
 "metadata": {
  "kernelspec": {
   "display_name": "Python 3",
   "language": "python",
   "name": "python3"
  },
  "language_info": {
   "codemirror_mode": {
    "name": "ipython",
    "version": 2
   },
   "file_extension": ".py",
   "mimetype": "text/x-python",
   "name": "python",
   "nbconvert_exporter": "python",
   "pygments_lexer": "ipython2",
   "version": "2.7.6"
  }
 },
 "nbformat": 4,
 "nbformat_minor": 0
}
