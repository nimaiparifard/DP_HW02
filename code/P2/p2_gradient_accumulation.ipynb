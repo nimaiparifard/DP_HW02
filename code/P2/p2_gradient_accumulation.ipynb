{
 "cells": [
  {
   "cell_type": "code",
   "execution_count": 7,
   "metadata": {
    "collapsed": true,
    "ExecuteTime": {
     "end_time": "2024-04-10T07:33:08.226019100Z",
     "start_time": "2024-04-10T07:33:08.215853300Z"
    }
   },
   "outputs": [],
   "source": [
    "import torch\n",
    "from torch import nn\n",
    "from torch.utils.data import DataLoader, TensorDataset\n",
    "\n",
    "class Net(nn.Module):\n",
    "    def __init__(self):\n",
    "        super(Net, self).__init__()\n",
    "        self.fc1 = nn.Linear(100, 500)\n",
    "        self.fc2 = nn.Linear(500, 500)\n",
    "        self.fc3 = nn.Linear(500, 1)\n",
    "\n",
    "    def forward(self, x):\n",
    "        x = torch.relu(self.fc1(x))\n",
    "        x = torch.relu(self.fc2(x))\n",
    "        x = self.fc3(x)\n",
    "        return x"
   ]
  },
  {
   "cell_type": "code",
   "execution_count": 8,
   "outputs": [],
   "source": [
    "net = Net()\n",
    "\n",
    "\n",
    "inputs = torch.randn(100, 100)\n",
    "targets = torch.randn(100, 1)\n",
    "dataset = TensorDataset(inputs, targets)\n",
    "dataloader = DataLoader(dataset, batch_size=2, shuffle=True)\n",
    "\n",
    "\n",
    "criterion = nn.MSELoss()\n",
    "optimizer = torch.optim.SGD(net.parameters(), lr=0.01)\n"
   ],
   "metadata": {
    "collapsed": false,
    "ExecuteTime": {
     "end_time": "2024-04-10T07:33:08.657718900Z",
     "start_time": "2024-04-10T07:33:08.648369400Z"
    }
   }
  },
  {
   "cell_type": "code",
   "execution_count": 12,
   "outputs": [
    {
     "name": "stdout",
     "output_type": "stream",
     "text": [
      "Epoch: 0, Accumulate Mean Loss: 3.1852166557655437e-06\n",
      "Epoch: 20, Accumulate Mean Loss: 8.490768777846824e-06\n",
      "Epoch: 40, Accumulate Mean Loss: 8.52608627610607e-06\n",
      "Epoch: 60, Accumulate Mean Loss: 7.942948059280752e-07\n",
      "Epoch: 80, Accumulate Mean Loss: 1.4935142189642647e-07\n"
     ]
    }
   ],
   "source": [
    "\n",
    "accumulation_steps = 20\n",
    "for epoch in range(100):  # loop over the dataset multiple times\n",
    "    for i, (inputs, targets) in enumerate(dataloader):\n",
    "        optimizer.zero_grad() if i % accumulation_steps == 0 else None\n",
    "        outputs = net(inputs)  # forward pass\n",
    "        loss = criterion(outputs, targets)  # compute loss\n",
    "        loss = loss / accumulation_steps\n",
    "        loss.backward()  # backward pass\n",
    "        if (i+1) % 20 == 0:\n",
    "            optimizer.step()  # Now we can do an optimizer step\n",
    "            net.zero_grad()\n",
    "    if epoch % 20 ==0:\n",
    "        print(f\"Epoch: {epoch}, Accumulate Mean Loss: {loss}\")"
   ],
   "metadata": {
    "collapsed": false,
    "ExecuteTime": {
     "end_time": "2024-04-10T07:35:14.163626600Z",
     "start_time": "2024-04-10T07:35:03.169405Z"
    }
   }
  }
 ],
 "metadata": {
  "kernelspec": {
   "display_name": "Python 3",
   "language": "python",
   "name": "python3"
  },
  "language_info": {
   "codemirror_mode": {
    "name": "ipython",
    "version": 2
   },
   "file_extension": ".py",
   "mimetype": "text/x-python",
   "name": "python",
   "nbconvert_exporter": "python",
   "pygments_lexer": "ipython2",
   "version": "2.7.6"
  }
 },
 "nbformat": 4,
 "nbformat_minor": 0
}
