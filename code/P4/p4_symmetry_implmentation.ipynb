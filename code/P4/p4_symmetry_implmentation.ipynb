{
 "cells": [
  {
   "cell_type": "code",
   "execution_count": 9,
   "metadata": {
    "collapsed": true,
    "ExecuteTime": {
     "end_time": "2024-04-10T06:22:58.824133100Z",
     "start_time": "2024-04-10T06:22:58.786335300Z"
    }
   },
   "outputs": [],
   "source": [
    "import torch\n",
    "import torch.nn as nn\n",
    "\n",
    "class SymmetricNet(nn.Module):\n",
    "    def __init__(self):\n",
    "        super(SymmetricNet, self).__init__()\n",
    "        self.fc1 = nn.Linear(10, 10)\n",
    "        self.fc2 = nn.Linear(10, 1)\n",
    "\n",
    "    def forward(self, x):\n",
    "        x = torch.relu(self.fc1(x))\n",
    "        x = self.fc2(x)\n",
    "        return x"
   ]
  },
  {
   "cell_type": "code",
   "execution_count": 16,
   "outputs": [
    {
     "data": {
      "text/plain": "SymmetricNet(\n  (fc1): Linear(in_features=10, out_features=10, bias=True)\n  (fc2): Linear(in_features=10, out_features=1, bias=True)\n)"
     },
     "execution_count": 16,
     "metadata": {},
     "output_type": "execute_result"
    }
   ],
   "source": [
    "def init_weights_symmetric(m):\n",
    "    if type(m) == nn.Linear:\n",
    "        torch.nn.init.constant_(m.weight, 0.0)\n",
    "        m.bias.data.fill_(0.0)\n",
    "\n",
    "net = SymmetricNet()\n",
    "net.apply(init_weights_symmetric)"
   ],
   "metadata": {
    "collapsed": false,
    "ExecuteTime": {
     "end_time": "2024-04-10T06:23:36.449701900Z",
     "start_time": "2024-04-10T06:23:36.431445900Z"
    }
   }
  },
  {
   "cell_type": "code",
   "execution_count": 17,
   "outputs": [
    {
     "name": "stdout",
     "output_type": "stream",
     "text": [
      "fc1.weight tensor([[0., 0., 0., 0., 0., 0., 0., 0., 0., 0.],\n",
      "        [0., 0., 0., 0., 0., 0., 0., 0., 0., 0.],\n",
      "        [0., 0., 0., 0., 0., 0., 0., 0., 0., 0.],\n",
      "        [0., 0., 0., 0., 0., 0., 0., 0., 0., 0.],\n",
      "        [0., 0., 0., 0., 0., 0., 0., 0., 0., 0.],\n",
      "        [0., 0., 0., 0., 0., 0., 0., 0., 0., 0.],\n",
      "        [0., 0., 0., 0., 0., 0., 0., 0., 0., 0.],\n",
      "        [0., 0., 0., 0., 0., 0., 0., 0., 0., 0.],\n",
      "        [0., 0., 0., 0., 0., 0., 0., 0., 0., 0.],\n",
      "        [0., 0., 0., 0., 0., 0., 0., 0., 0., 0.]])\n",
      "fc1.bias tensor([0., 0., 0., 0., 0., 0., 0., 0., 0., 0.])\n",
      "fc2.weight tensor([[0., 0., 0., 0., 0., 0., 0., 0., 0., 0.]])\n",
      "fc2.bias tensor([0.])\n"
     ]
    }
   ],
   "source": [
    "for name, param in net.named_parameters():\n",
    "    if param.requires_grad:\n",
    "        print(name, param.data)"
   ],
   "metadata": {
    "collapsed": false,
    "ExecuteTime": {
     "end_time": "2024-04-10T06:23:38.570274200Z",
     "start_time": "2024-04-10T06:23:38.517222700Z"
    }
   }
  },
  {
   "cell_type": "code",
   "execution_count": 18,
   "outputs": [
    {
     "name": "stdout",
     "output_type": "stream",
     "text": [
      "fc1.weight tensor([[0., 0., 0., 0., 0., 0., 0., 0., 0., 0.],\n",
      "        [0., 0., 0., 0., 0., 0., 0., 0., 0., 0.],\n",
      "        [0., 0., 0., 0., 0., 0., 0., 0., 0., 0.],\n",
      "        [0., 0., 0., 0., 0., 0., 0., 0., 0., 0.],\n",
      "        [0., 0., 0., 0., 0., 0., 0., 0., 0., 0.],\n",
      "        [0., 0., 0., 0., 0., 0., 0., 0., 0., 0.],\n",
      "        [0., 0., 0., 0., 0., 0., 0., 0., 0., 0.],\n",
      "        [0., 0., 0., 0., 0., 0., 0., 0., 0., 0.],\n",
      "        [0., 0., 0., 0., 0., 0., 0., 0., 0., 0.],\n",
      "        [0., 0., 0., 0., 0., 0., 0., 0., 0., 0.]])\n",
      "fc1.bias tensor([0., 0., 0., 0., 0., 0., 0., 0., 0., 0.])\n",
      "fc2.weight tensor([[0., 0., 0., 0., 0., 0., 0., 0., 0., 0.]])\n",
      "fc2.bias tensor([-0.0237])\n"
     ]
    }
   ],
   "source": [
    "# Step 1: Create a dataset\n",
    "inputs = torch.randn(100, 10)\n",
    "targets = torch.randn(100, 1)\n",
    "\n",
    "# Step 2: Define a loss function and an optimizer\n",
    "criterion = nn.MSELoss()\n",
    "optimizer = torch.optim.SGD(net.parameters(), lr=0.01)\n",
    "\n",
    "# Step 3: Train the network\n",
    "for epoch in range(100):  # loop over the dataset multiple times\n",
    "    optimizer.zero_grad()  # zero the parameter gradients\n",
    "    outputs = net(inputs)  # forward pass\n",
    "    loss = criterion(outputs, targets)  # compute loss\n",
    "    loss.backward()  # backward pass\n",
    "    optimizer.step()  # update weights\n",
    "\n",
    "# Step 4: Display the weights after training\n",
    "for name, param in net.named_parameters():\n",
    "    if param.requires_grad:\n",
    "        print(name, param.data)"
   ],
   "metadata": {
    "collapsed": false,
    "ExecuteTime": {
     "end_time": "2024-04-10T06:23:42.955733700Z",
     "start_time": "2024-04-10T06:23:42.848595Z"
    }
   }
  },
  {
   "cell_type": "code",
   "execution_count": 19,
   "outputs": [
    {
     "data": {
      "text/plain": "SymmetricNet(\n  (fc1): Linear(in_features=10, out_features=10, bias=True)\n  (fc2): Linear(in_features=10, out_features=1, bias=True)\n)"
     },
     "execution_count": 19,
     "metadata": {},
     "output_type": "execute_result"
    }
   ],
   "source": [
    "def break_symmetry(m):\n",
    "    if type(m) == nn.Linear:\n",
    "        m.weight.data += torch.randn(m.weight.size()) * 0.01\n",
    "\n",
    "net.apply(break_symmetry)"
   ],
   "metadata": {
    "collapsed": false,
    "ExecuteTime": {
     "end_time": "2024-04-10T06:23:47.714138500Z",
     "start_time": "2024-04-10T06:23:47.685984800Z"
    }
   }
  },
  {
   "cell_type": "code",
   "execution_count": 20,
   "outputs": [
    {
     "name": "stdout",
     "output_type": "stream",
     "text": [
      "fc1.weight tensor([[-0.0049, -0.0083,  0.0026,  0.0118, -0.0168, -0.0037,  0.0087,  0.0278,\n",
      "         -0.0092,  0.0028],\n",
      "        [-0.0061,  0.0022,  0.0040,  0.0141, -0.0109,  0.0092, -0.0142,  0.0014,\n",
      "          0.0175, -0.0186],\n",
      "        [ 0.0154,  0.0003, -0.0015,  0.0139, -0.0163, -0.0200,  0.0095,  0.0049,\n",
      "         -0.0091,  0.0059],\n",
      "        [ 0.0142, -0.0185,  0.0069,  0.0168,  0.0153, -0.0005,  0.0013,  0.0054,\n",
      "          0.0022,  0.0024],\n",
      "        [-0.0019,  0.0129,  0.0107, -0.0024,  0.0120,  0.0164, -0.0028, -0.0134,\n",
      "          0.0121,  0.0049],\n",
      "        [-0.0004, -0.0053, -0.0040, -0.0240, -0.0023, -0.0016, -0.0005,  0.0137,\n",
      "          0.0024, -0.0041],\n",
      "        [-0.0052,  0.0102,  0.0134, -0.0116, -0.0111, -0.0033, -0.0110, -0.0127,\n",
      "         -0.0112,  0.0083],\n",
      "        [ 0.0096, -0.0079, -0.0024, -0.0140, -0.0100, -0.0041,  0.0018, -0.0055,\n",
      "         -0.0070,  0.0104],\n",
      "        [ 0.0147, -0.0085, -0.0007,  0.0235,  0.0084,  0.0034,  0.0020, -0.0086,\n",
      "         -0.0156,  0.0105],\n",
      "        [-0.0099,  0.0029,  0.0014, -0.0132,  0.0065, -0.0084, -0.0211,  0.0071,\n",
      "         -0.0022,  0.0088]])\n",
      "fc1.bias tensor([ 4.0027e-04,  1.0657e-04,  9.1510e-04,  3.1246e-04, -1.3374e-03,\n",
      "         2.2140e-03, -2.1534e-03,  9.5646e-04, -4.3766e-05, -6.6556e-04])\n",
      "fc2.weight tensor([[ 0.0034, -0.0034,  0.0073,  0.0059, -0.0100,  0.0154, -0.0121,  0.0166,\n",
      "          0.0147, -0.0015]])\n",
      "fc2.bias tensor([0.1724])\n"
     ]
    }
   ],
   "source": [
    "# Step 1: Create a dataset\n",
    "inputs = torch.randn(100, 10)\n",
    "targets = torch.randn(100, 1)\n",
    "\n",
    "# Step 2: Define a loss function and an optimizer\n",
    "criterion = nn.MSELoss()\n",
    "optimizer = torch.optim.SGD(net.parameters(), lr=0.01)\n",
    "\n",
    "# Step 3: Train the network\n",
    "for epoch in range(100):  # loop over the dataset multiple times\n",
    "    optimizer.zero_grad()  # zero the parameter gradients\n",
    "    outputs = net(inputs)  # forward pass\n",
    "    loss = criterion(outputs, targets)  # compute loss\n",
    "    loss.backward()  # backward pass\n",
    "    optimizer.step()  # update weights\n",
    "\n",
    "# Step 4: Display the weights after training\n",
    "for name, param in net.named_parameters():\n",
    "    if param.requires_grad:\n",
    "        print(name, param.data)"
   ],
   "metadata": {
    "collapsed": false,
    "ExecuteTime": {
     "end_time": "2024-04-10T06:23:51.952740700Z",
     "start_time": "2024-04-10T06:23:51.827036700Z"
    }
   }
  },
  {
   "cell_type": "code",
   "execution_count": null,
   "outputs": [],
   "source": [],
   "metadata": {
    "collapsed": false
   }
  }
 ],
 "metadata": {
  "kernelspec": {
   "display_name": "Python 3",
   "language": "python",
   "name": "python3"
  },
  "language_info": {
   "codemirror_mode": {
    "name": "ipython",
    "version": 2
   },
   "file_extension": ".py",
   "mimetype": "text/x-python",
   "name": "python",
   "nbconvert_exporter": "python",
   "pygments_lexer": "ipython2",
   "version": "2.7.6"
  }
 },
 "nbformat": 4,
 "nbformat_minor": 0
}
